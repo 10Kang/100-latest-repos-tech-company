{
 "cells": [
  {
   "cell_type": "code",
   "execution_count": 49,
   "id": "db273535-46c9-40ed-b302-309e03a93fc7",
   "metadata": {},
   "outputs": [],
   "source": [
    "import boto3\n",
    "import os \n",
    "import pandas as pd\n",
    "import json"
   ]
  },
  {
   "cell_type": "code",
   "execution_count": 8,
   "id": "b154307e-2d88-489a-a45a-0c674bc98160",
   "metadata": {},
   "outputs": [],
   "source": [
    "os.environ.setdefault('AWS_PROFILE','zy-udemy-admin')\n",
    "os.environ.setdefault('AWS_DEFAULT_REGION','ap-southeast-1')\n",
    "bucket_name = 'github-faang-repo'\n",
    "faang_name = ['apple','facebook','google','microsoft','Netflix']"
   ]
  },
  {
   "cell_type": "code",
   "execution_count": 3,
   "id": "e04d66e9-589a-4612-81a8-49eb55fc69bf",
   "metadata": {},
   "outputs": [],
   "source": [
    "s3_client  = boto3.client('s3')"
   ]
  },
  {
   "cell_type": "code",
   "execution_count": 56,
   "id": "837dd954-d583-49e7-ba8f-0c61fd5ba1db",
   "metadata": {},
   "outputs": [],
   "source": [
    "for i in range (len(faang_name)):\n",
    "\n",
    "    # request the data\n",
    "    response = s3_client.get_object(\n",
    "        Bucket=bucket_name,\n",
    "        Key=f'latest-100-repo/{faang_name[i]}.json')\n",
    "    \n",
    "    # Read and process the JSON data line by line\n",
    "    json_objects = []\n",
    "    \n",
    "    for line in response['Body'].iter_lines():\n",
    "    # Each line is a JSON object, so you can parse it\n",
    "        json_data = json.loads(line)\n",
    "        json_objects.append(json_data)\n",
    "\n",
    "    if i == 0:\n",
    "        df = pd.DataFrame(json_objects)\n",
    "    else:\n",
    "        df2 = pd.DataFrame(json_objects)\n",
    "\n",
    "        df = pd.concat([df,df2])\n",
    "        "
   ]
  },
  {
   "cell_type": "code",
   "execution_count": 65,
   "id": "f7e2a6ec-5c66-43ed-b4a9-9ba69b6a4479",
   "metadata": {},
   "outputs": [],
   "source": [
    "## save file \n",
    "df = df.to_csv('/Users/kang/Documents/Portfolio/Github-organization/tableau_data/faang_latest_100_repo.csv')"
   ]
  }
 ],
 "metadata": {
  "kernelspec": {
   "display_name": "Python 3.11 (data-engineering)",
   "language": "python",
   "name": "data_engineering"
  },
  "language_info": {
   "codemirror_mode": {
    "name": "ipython",
    "version": 3
   },
   "file_extension": ".py",
   "mimetype": "text/x-python",
   "name": "python",
   "nbconvert_exporter": "python",
   "pygments_lexer": "ipython3",
   "version": "3.11.4"
  }
 },
 "nbformat": 4,
 "nbformat_minor": 5
}
